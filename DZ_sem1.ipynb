{
 "cells": [
  {
   "cell_type": "markdown",
   "metadata": {},
   "source": [
    "## Задача 1\n",
    "\n",
    "Оформляйте ноутбук, используя эти советы:\n",
    "\n",
    "- Номер задачи - заголовок 2\n",
    "- Номер подзадачи - заголовок 3\n",
    "- Предоставленные наборы данных оформляйте, как код"
   ]
  },
  {
   "cell_type": "markdown",
   "metadata": {},
   "source": [
    "## Задача 2\n",
    "\n",
    "На складе лежат разные фрукты в разном количестве.  \n",
    "Нужно написать функцию, которая на вход принимает любое количество названий фруктов и их количество, а возвращает общее количество фруктов на складе:"
   ]
  },
  {
   "cell_type": "code",
   "execution_count": 2,
   "metadata": {},
   "outputs": [
    {
     "name": "stdout",
     "output_type": "stream",
     "text": [
      "Всего фруктов: 10\n"
     ]
    }
   ],
   "source": [
    "list_of_fruits={\"яблоки\":5,\"груши\":2,\"бананы\":3}\n",
    "def fruits_sum(D:dict):\n",
    "    result = sum(D.values())\n",
    "    return f\"Всего фруктов: {result}\"\n",
    "\n",
    "print(fruits_sum(list_of_fruits))"
   ]
  },
  {
   "cell_type": "markdown",
   "metadata": {},
   "source": [
    "## Задача 3\n",
    "\n",
    "Дан список с затратами на рекламу. Но в данных есть ошибки, некоторые затраты имеют отрицательную величину.  \n",
    "\n",
    "Удалите такие значения из списка и посчитайте суммарные затраты:  \n",
    "[100, 125, -90, 345, 655, -1, 0, 200]  \n",
    "\n",
    "Используйте list comprehensions"
   ]
  },
  {
   "cell_type": "code",
   "execution_count": 100,
   "metadata": {},
   "outputs": [
    {
     "data": {
      "text/plain": [
       "'Cуммарные затраты: 1425'"
      ]
     },
     "execution_count": 100,
     "metadata": {},
     "output_type": "execute_result"
    }
   ],
   "source": [
    "list_costs=[100, 125, -90, 345, 655, -1, 0, 200]\n",
    "\n",
    "def total_costs(costs):\n",
    "    result = sum([i for i in costs if i > 0])\n",
    "    return f\"Cуммарные затраты: {result}\"\n",
    "\n",
    "total_costs(list_costs)"
   ]
  },
  {
   "cell_type": "markdown",
   "metadata": {},
   "source": [
    "## Задача 4\n",
    "Даны два списка.  \n",
    "Дата покупки:  \n",
    "['2021-09-14', '2021-12-15', '2021-09-08', '2021-12-05', '2021-10-09', '2021-09-30', '2021-12-22', '2021-11-29', '2021-12-24', '2021-11-26', '2021-10-27', '2021-12-18', '2021-11-09', '2021-11-23', '2021-09-27', '2021-10-02', '2021-12-27', '2021-09-20', '2021-12-13', '2021-11-01', '2021-11-09', '2021-12-06', '2021-12-08', '2021-10-09', '2021-10-31', '2021-09-30', '2021-11-09', '2021-12-13', '2021-10-26', '2021-12-09']  \n",
    "\n",
    "Суммы покупок по датам:  \n",
    "[1270, 8413, 9028, 3703, 5739, 4095, 295, 4944, 5723, 3701, 4471, 651, 7037, 4274, 6275, 4988, 6930, 2971, 6592, 2004, 2822, 519, 3406, 2732, 5015, 2008, 316, 6333, 5700, 2887]  "
   ]
  },
  {
   "cell_type": "markdown",
   "metadata": {},
   "source": [
    "### Задача 4.1 Найдите, какая выручка у компании в ноябре  \n",
    "Используйте list comprehensions  "
   ]
  },
  {
   "cell_type": "code",
   "execution_count": 10,
   "metadata": {},
   "outputs": [],
   "source": [
    "list_date_purchase=['2021-09-14', '2021-12-15', '2021-09-08', '2021-12-05', '2021-10-09', \n",
    "                    '2021-09-30', '2021-12-22', '2021-11-29', '2021-12-24', '2021-11-26', \n",
    "                    '2021-10-27', '2021-12-18', '2021-11-09', '2021-11-23', '2021-09-27', \n",
    "                    '2021-10-02', '2021-12-27', '2021-09-20', '2021-12-13', '2021-11-01', \n",
    "                    '2021-11-09', '2021-12-06', '2021-12-08', '2021-10-09', '2021-10-31', \n",
    "                    '2021-09-07', '2021-11-09', '2021-12-13', '2021-10-26', '2021-12-09']\n",
    "list_summa_purchase=[1270, 8413, 9028, 3703, 5739, \n",
    "                     4095, 295, 4944, 5723, 3701, \n",
    "                     4471, 651, 7037, 4274, 6275, \n",
    "                     4988, 6930, 2971, 6592, 2004, \n",
    "                     2822, 519, 3406, 2732, 5015, \n",
    "                     2008, 316, 6333, 5700, 2887]"
   ]
  },
  {
   "cell_type": "code",
   "execution_count": 8,
   "metadata": {},
   "outputs": [
    {
     "data": {
      "text/plain": [
       "'Выручка у компании за выбранный месяц: 30417'"
      ]
     },
     "execution_count": 8,
     "metadata": {},
     "output_type": "execute_result"
    }
   ],
   "source": [
    "from datetime import datetime\n",
    "\n",
    "def search_revenue_month(list1: list, list2: list, date_month: str) -> list:\n",
    "    result = sum([list2[i] for i in range(len(list1)) if date_month in str(datetime.strptime(list1[i], \"%Y-%m-%d\").month)])\n",
    "\n",
    "    return f\"Выручка у компании за выбранный месяц: {result}\"\n",
    "\n",
    "search_revenue_month(list_date_purchase, list_summa_purchase, '11')"
   ]
  },
  {
   "cell_type": "markdown",
   "metadata": {},
   "source": [
    "### Задача 4.2 Найдите выручку компании в зависимости от месяца  \n",
    "Для этого напишите функцию, которая на вход принимает список с датами и список с выручкой, а на выходе словарь, где ключи - это месяцы, а значения - это выручка.  \n",
    "Используйте аннотирование типов."
   ]
  },
  {
   "cell_type": "code",
   "execution_count": 11,
   "metadata": {},
   "outputs": [
    {
     "name": "stdout",
     "output_type": "stream",
     "text": [
      "{'9': 25647, '12': 45452, '10': 28645, '11': 25098}\n"
     ]
    }
   ],
   "source": [
    "def search_revenue(list1: list, list2: list) -> dict:   \n",
    "    list_result = {}\n",
    "    \n",
    "    for i in range(len(list1)):\n",
    "        str_month = str(datetime.strptime(list1[i], \"%Y-%m-%d\").month)\n",
    "        if str_month in list_result.keys():\n",
    "            list_result[str_month] += list2[i]\n",
    "        else:\n",
    "            list_result[str_month] = list2[i]\n",
    "    return list_result\n",
    "\n",
    "print(search_revenue(list_date_purchase, list_summa_purchase))"
   ]
  }
 ],
 "metadata": {
  "kernelspec": {
   "display_name": "Python 3",
   "language": "python",
   "name": "python3"
  },
  "language_info": {
   "codemirror_mode": {
    "name": "ipython",
    "version": 3
   },
   "file_extension": ".py",
   "mimetype": "text/x-python",
   "name": "python",
   "nbconvert_exporter": "python",
   "pygments_lexer": "ipython3",
   "version": "3.10.0"
  },
  "orig_nbformat": 4
 },
 "nbformat": 4,
 "nbformat_minor": 2
}
